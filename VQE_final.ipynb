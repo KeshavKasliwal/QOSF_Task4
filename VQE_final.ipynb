{
 "cells": [
  {
   "cell_type": "markdown",
   "metadata": {
    "colab": {},
    "colab_type": "code",
    "id": "5qLr0bU8H5uN"
   },
   "source": [
    "# Submission of Task 4 for the screening of QOSF Mentorship Program \n",
    "## Programming Language:Qiskit\n",
    "## Steps:\n",
    "###           1. Creating an array consisting of all the pauli matrices i.e I,Z,X,Y\n",
    "\n",
    "###           2. Finding the kronecker product of the above mentioned matrices for generating the hamiltionian\n",
    "\n",
    "###           3. Storing the eigenvalues of the matrices to a dictionary\n",
    "\n",
    "###           4. Initializing and parameterizing anzatz\n",
    "\n",
    "###           5. Running a simulator within the specified range of angles\n",
    "\n",
    "###           6. Finding the minimum expectation value"
   ]
  },
  {
   "cell_type": "code",
   "execution_count": 33,
   "metadata": {
    "colab": {},
    "colab_type": "code",
    "id": "5qLr0bU8H5uN"
   },
   "outputs": [],
   "source": [
    "# installing necessary libraries\n",
    "import numpy as np\n",
    "from qiskit import *\n",
    "from qiskit.circuit import Parameter\n",
    "from matplotlib import pyplot as pl"
   ]
  },
  {
   "cell_type": "code",
   "execution_count": 34,
   "metadata": {
    "colab": {
     "base_uri": "https://localhost:8080/",
     "height": 202
    },
    "colab_type": "code",
    "id": "8lhYrBRU0_bM",
    "outputId": "8b45553c-33d8-4a5f-a821-11266e836d3f"
   },
   "outputs": [
    {
     "data": {
      "text/plain": [
       "array([[[ 1.+0.j,  0.+0.j],\n",
       "        [ 0.+0.j,  1.+0.j]],\n",
       "\n",
       "       [[ 1.+0.j,  0.+0.j],\n",
       "        [ 0.+0.j, -1.+0.j]],\n",
       "\n",
       "       [[ 0.+0.j,  1.+0.j],\n",
       "        [ 1.+0.j,  0.+0.j]],\n",
       "\n",
       "       [[ 0.+0.j, -0.-1.j],\n",
       "        [ 0.+1.j,  0.+0.j]]])"
      ]
     },
     "execution_count": 34,
     "metadata": {},
     "output_type": "execute_result"
    }
   ],
   "source": [
    "# storing all Pauli matrices (i, z, x, y)\n",
    "pauli = np.array([[[1,0],[0,1]], [[1,0],[0,-1]], [[0,1],[1,0]], [[0,-1j],[1j,0]]])\n",
    "pauli"
   ]
  },
  {
   "cell_type": "code",
   "execution_count": 35,
   "metadata": {
    "colab": {},
    "colab_type": "code",
    "id": "UUCxVcoU0_bn"
   },
   "outputs": [],
   "source": [
    "# finding kronecker product of Pauli matrices with themselves for generating the hamiltonian\n",
    "ii = np.kron(pauli[0], pauli[0])\n",
    "zz = np.kron(pauli[1], pauli[1])\n",
    "xx = np.kron(pauli[2], pauli[2])\n",
    "yy = np.kron(pauli[3], pauli[3])"
   ]
  },
  {
   "cell_type": "code",
   "execution_count": 36,
   "metadata": {
    "colab": {
     "base_uri": "https://localhost:8080/",
     "height": 538
    },
    "colab_type": "code",
    "id": "SjrJTBGy0_bz",
    "outputId": "4cb567f0-7d47-4610-93cf-1b406bf03191"
   },
   "outputs": [
    {
     "name": "stdout",
     "output_type": "stream",
     "text": [
      "ii:\n",
      "eigenvalues:  [1.+0.j 1.+0.j 1.+0.j 1.+0.j] \n",
      "eigenvectors\n",
      " [[1.+0.j 0.+0.j 0.+0.j 0.+0.j]\n",
      " [0.+0.j 1.+0.j 0.+0.j 0.+0.j]\n",
      " [0.+0.j 0.+0.j 1.+0.j 0.+0.j]\n",
      " [0.+0.j 0.+0.j 0.+0.j 1.+0.j]]\n",
      "\n",
      "zz:\n",
      "eigenvalues:  [ 1.+0.j -1.+0.j -1.+0.j  1.-0.j] \n",
      "eigenvectors\n",
      " [[1.+0.j 0.+0.j 0.+0.j 0.+0.j]\n",
      " [0.+0.j 1.+0.j 0.+0.j 0.+0.j]\n",
      " [0.+0.j 0.+0.j 1.+0.j 0.+0.j]\n",
      " [0.+0.j 0.+0.j 0.+0.j 1.+0.j]]\n",
      "\n",
      "xx:\n",
      "eigenvalues:  [ 1.+0.j -1.+0.j  1.+0.j -1.+0.j] \n",
      "eigenvectors\n",
      " [[ 0.70710678-0.j  0.70710678+0.j -0.        -0.j -0.        -0.j]\n",
      " [-0.        -0.j  0.        +0.j  0.70710678+0.j  0.70710678+0.j]\n",
      " [-0.        -0.j  0.        +0.j  0.70710678-0.j -0.70710678-0.j]\n",
      " [ 0.70710678+0.j -0.70710678+0.j -0.        -0.j -0.        -0.j]]\n",
      "\n",
      "yy:\n",
      "eigenvalues:  [ 1.+0.j -1.+0.j  1.+0.j -1.+0.j] \n",
      "eigenvectors\n",
      " [[-0.70710678+0.j  0.70710678+0.j -0.        -0.j  0.        +0.j]\n",
      " [ 0.        +0.j  0.        +0.j  0.70710678+0.j  0.70710678+0.j]\n",
      " [ 0.        +0.j  0.        +0.j  0.70710678-0.j -0.70710678+0.j]\n",
      " [ 0.70710678+0.j  0.70710678+0.j -0.        -0.j  0.        +0.j]]\n"
     ]
    }
   ],
   "source": [
    "# displaying eigenvalues and eigenvectors of all matrices\n",
    "print('ii:\\neigenvalues: ', np.linalg.eig(ii)[0], '\\neigenvectors\\n',np.linalg.eig(ii)[1])\n",
    "print()\n",
    "print('zz:\\neigenvalues: ', np.linalg.eig(zz)[0], '\\neigenvectors\\n',np.linalg.eig(zz)[1])\n",
    "print()\n",
    "print('xx:\\neigenvalues: ', np.linalg.eig(xx)[0], '\\neigenvectors\\n',np.linalg.eig(xx)[1])\n",
    "print()\n",
    "print('yy:\\neigenvalues: ', np.linalg.eig(yy)[0], '\\neigenvectors\\n',np.linalg.eig(yy)[1])"
   ]
  },
  {
   "cell_type": "code",
   "execution_count": 37,
   "metadata": {
    "colab": {},
    "colab_type": "code",
    "id": "Mmu38UCk0_b-"
   },
   "outputs": [],
   "source": [
    "# storing the eigenvalues to a dictionary for mapping\n",
    "# convenience\n",
    "eig_values = [{'00':1, '01':1, '10':1, '11':1},\n",
    "              {'00':1, '01':-1, '10':-1, '11':1},\n",
    "              {'00':1, '01':-1, '10':-1, '11':1},\n",
    "              {'00':1, '01':-1, '10':-1, '11':1}]"
   ]
  },
  {
   "cell_type": "code",
   "execution_count": 38,
   "metadata": {
    "colab": {
     "base_uri": "https://localhost:8080/",
     "height": 101
    },
    "colab_type": "code",
    "id": "VFvFVx1wMTKF",
    "outputId": "a16cf446-71d0-4dbf-95a0-c489a4e0c353"
   },
   "outputs": [
    {
     "name": "stdout",
     "output_type": "stream",
     "text": [
      "Hamiltonian whose eigenvalue is to be found:\n",
      "[[ 1.+0.j  0.+0.j  0.+0.j  0.+0.j]\n",
      " [ 0.+0.j  0.+0.j -1.+0.j  0.+0.j]\n",
      " [ 0.+0.j -1.+0.j  0.+0.j  0.+0.j]\n",
      " [ 0.+0.j  0.+0.j  0.+0.j  1.+0.j]]\n"
     ]
    }
   ],
   "source": [
    "# generating the Hamiltonian\n",
    "print('Hamiltonian whose eigenvalue is to be found:')\n",
    "print(-1/2*(xx + yy) + 1/2*(ii + zz))"
   ]
  },
  {
   "cell_type": "code",
   "execution_count": 39,
   "metadata": {
    "colab": {
     "base_uri": "https://localhost:8080/",
     "height": 442
    },
    "colab_type": "code",
    "id": "505ahGQz0_ca",
    "outputId": "6ed84458-e839-44f1-c444-521710aff307"
   },
   "outputs": [
    {
     "data": {
      "text/html": [
       "<pre style=\"word-wrap: normal;white-space: pre;background: #fff0;line-height: 1.1;font-family: &quot;Courier New&quot;,Courier,monospace\">     ┌───┐     ┌────────────┐┌─┐   \n",
       "q_0: ┤ H ├──■──┤ RX(Ansatz) ├┤M├───\n",
       "     ├───┤┌─┴─┐└───┬───┬────┘└╥┘┌─┐\n",
       "q_1: ┤ I ├┤ X ├────┤ I ├──────╫─┤M├\n",
       "     └───┘└───┘    └───┘      ║ └╥┘\n",
       "c_0: ═════════════════════════╩══╬═\n",
       "                                 ║ \n",
       "c_1: ════════════════════════════╩═\n",
       "                                   </pre>"
      ],
      "text/plain": [
       "     ┌───┐     ┌────────────┐┌─┐   \n",
       "q_0: ┤ H ├──■──┤ RX(Ansatz) ├┤M├───\n",
       "     ├───┤┌─┴─┐└───┬───┬────┘└╥┘┌─┐\n",
       "q_1: ┤ I ├┤ X ├────┤ I ├──────╫─┤M├\n",
       "     └───┘└───┘    └───┘      ║ └╥┘\n",
       "c_0: ═════════════════════════╩══╬═\n",
       "                                 ║ \n",
       "c_1: ════════════════════════════╩═\n",
       "                                   "
      ]
     },
     "metadata": {},
     "output_type": "display_data"
    },
    {
     "data": {
      "text/html": [
       "<pre style=\"word-wrap: normal;white-space: pre;background: #fff0;line-height: 1.1;font-family: &quot;Courier New&quot;,Courier,monospace\">     ┌───┐     ┌────────────┐┌─┐   \n",
       "q_0: ┤ H ├──■──┤ RX(Ansatz) ├┤M├───\n",
       "     ├───┤┌─┴─┐└───┬───┬────┘└╥┘┌─┐\n",
       "q_1: ┤ I ├┤ X ├────┤ I ├──────╫─┤M├\n",
       "     └───┘└───┘    └───┘      ║ └╥┘\n",
       "c_0: ═════════════════════════╩══╬═\n",
       "                                 ║ \n",
       "c_1: ════════════════════════════╩═\n",
       "                                   </pre>"
      ],
      "text/plain": [
       "     ┌───┐     ┌────────────┐┌─┐   \n",
       "q_0: ┤ H ├──■──┤ RX(Ansatz) ├┤M├───\n",
       "     ├───┤┌─┴─┐└───┬───┬────┘└╥┘┌─┐\n",
       "q_1: ┤ I ├┤ X ├────┤ I ├──────╫─┤M├\n",
       "     └───┘└───┘    └───┘      ║ └╥┘\n",
       "c_0: ═════════════════════════╩══╬═\n",
       "                                 ║ \n",
       "c_1: ════════════════════════════╩═\n",
       "                                   "
      ]
     },
     "metadata": {},
     "output_type": "display_data"
    },
    {
     "data": {
      "text/html": [
       "<pre style=\"word-wrap: normal;white-space: pre;background: #fff0;line-height: 1.1;font-family: &quot;Courier New&quot;,Courier,monospace\">     ┌───┐     ┌────────────┐┌───┐┌─┐   \n",
       "q_0: ┤ H ├──■──┤ RX(Ansatz) ├┤ H ├┤M├───\n",
       "     ├───┤┌─┴─┐└───┬───┬────┘├───┤└╥┘┌─┐\n",
       "q_1: ┤ I ├┤ X ├────┤ I ├─────┤ H ├─╫─┤M├\n",
       "     └───┘└───┘    └───┘     └───┘ ║ └╥┘\n",
       "c_0: ══════════════════════════════╩══╬═\n",
       "                                      ║ \n",
       "c_1: ═════════════════════════════════╩═\n",
       "                                        </pre>"
      ],
      "text/plain": [
       "     ┌───┐     ┌────────────┐┌───┐┌─┐   \n",
       "q_0: ┤ H ├──■──┤ RX(Ansatz) ├┤ H ├┤M├───\n",
       "     ├───┤┌─┴─┐└───┬───┬────┘├───┤└╥┘┌─┐\n",
       "q_1: ┤ I ├┤ X ├────┤ I ├─────┤ H ├─╫─┤M├\n",
       "     └───┘└───┘    └───┘     └───┘ ║ └╥┘\n",
       "c_0: ══════════════════════════════╩══╬═\n",
       "                                      ║ \n",
       "c_1: ═════════════════════════════════╩═\n",
       "                                        "
      ]
     },
     "metadata": {},
     "output_type": "display_data"
    },
    {
     "data": {
      "text/html": [
       "<pre style=\"word-wrap: normal;white-space: pre;background: #fff0;line-height: 1.1;font-family: &quot;Courier New&quot;,Courier,monospace\">     ┌───┐     ┌────────────┐┌─────┐┌───┐┌─┐   \n",
       "q_0: ┤ H ├──■──┤ RX(Ansatz) ├┤ SDG ├┤ H ├┤M├───\n",
       "     ├───┤┌─┴─┐└───┬───┬────┘├─────┤├───┤└╥┘┌─┐\n",
       "q_1: ┤ I ├┤ X ├────┤ I ├─────┤ SDG ├┤ H ├─╫─┤M├\n",
       "     └───┘└───┘    └───┘     └─────┘└───┘ ║ └╥┘\n",
       "c_0: ═════════════════════════════════════╩══╬═\n",
       "                                             ║ \n",
       "c_1: ════════════════════════════════════════╩═\n",
       "                                               </pre>"
      ],
      "text/plain": [
       "     ┌───┐     ┌────────────┐┌─────┐┌───┐┌─┐   \n",
       "q_0: ┤ H ├──■──┤ RX(Ansatz) ├┤ SDG ├┤ H ├┤M├───\n",
       "     ├───┤┌─┴─┐└───┬───┬────┘├─────┤├───┤└╥┘┌─┐\n",
       "q_1: ┤ I ├┤ X ├────┤ I ├─────┤ SDG ├┤ H ├─╫─┤M├\n",
       "     └───┘└───┘    └───┘     └─────┘└───┘ ║ └╥┘\n",
       "c_0: ═════════════════════════════════════╩══╬═\n",
       "                                             ║ \n",
       "c_1: ════════════════════════════════════════╩═\n",
       "                                               "
      ]
     },
     "metadata": {},
     "output_type": "display_data"
    }
   ],
   "source": [
    "# Initializing a circuit\n",
    "qc = [QuantumCircuit(2, 2) for _ in range(4)]\n",
    " \n",
    "# creation of a parameter\n",
    "param = Parameter('Ansatz')\n",
    " \n",
    "# defining anzatz\n",
    "for i in range(4):  \n",
    "    qc[i].h(0)\n",
    "    qc[i].i(1)\n",
    "    qc[i].cx(0,1)\n",
    "    qc[i].rx(param, 0)\n",
    "    qc[i].i(1)\n",
    " \n",
    "# Adding provisions for measurement in x and y basis respectively\n",
    "qc[2].h([0,1])\n",
    "qc[3].sdg([0,1])\n",
    "qc[3].h([0,1])\n",
    " \n",
    "# adding measurements and finally, displaying all circuits\n",
    "for i in range(4):\n",
    "    qc[i].measure([0,1],[0,1])\n",
    "    display(qc[i].draw())"
   ]
  },
  {
   "cell_type": "code",
   "execution_count": 40,
   "metadata": {
    "colab": {},
    "colab_type": "code",
    "id": "DhUrngR50_cr",
    "scrolled": true
   },
   "outputs": [],
   "source": [
    "# Parameters \n",
    "#    :num_theta : The number of angle divisions for a particular range specified\n",
    "#    :num_shots  : number of shots of each quantum circuit\n",
    "#    :lower_theta: The lower limit of the range of angles to be searched\n",
    "#    :upper_theta: The upper limit of the range of angles to be searched\n",
    " \n",
    "num_theta = 100\n",
    "num_shots = 100\n",
    "lower_theta = 0\n",
    "upper_theta = 2*np.pi\n",
    " \n",
    "# creating a list of num_angles between lower_theta and upper_theta\n",
    "angles = np.linspace(lower_theta, upper_theta, num_theta)\n",
    " \n",
    "# we use qasm simulator to find the number of counts of each measurement outcome\n",
    "sim = Aer.get_backend('qasm_simulator')\n",
    " \n",
    "# executing all 4 circuits for every angle in list angles and store in list output\n",
    "output = []\n",
    "for i in angles:\n",
    "    out = []\n",
    "    for circuit in qc:\n",
    "        circuit = circuit.assign_parameters({param: i})\n",
    "        result = execute(circuit, sim, shots = num_shots).result()\n",
    "        out.append(result.get_counts(circuit))\n",
    "    output.append(out)"
   ]
  },
  {
   "cell_type": "code",
   "execution_count": 41,
   "metadata": {
    "colab": {
     "base_uri": "https://localhost:8080/",
     "height": 34
    },
    "colab_type": "code",
    "id": "vr_k3wiM0_c2",
    "outputId": "0fc1147c-a6f5-47d6-ebf5-06131266c16e",
    "scrolled": true
   },
   "outputs": [
    {
     "name": "stdout",
     "output_type": "stream",
     "text": [
      "minimum Eigen value:  -1.0\n"
     ]
    }
   ],
   "source": [
    "# finding the minimum expectation value of the Hamiltonian using the\n",
    "# measurement outcomes using the list output from previous cell.\n",
    " \n",
    "# first, for every angle, average of measurement output, mapped to the\n",
    "# eigenvalue of the respective component is found. \n",
    "#  The average values are substituted in the equation of the Hamiltonian. This gives the \n",
    "# expectation value of the whole Hamiltonian for that value of Ansatz. \n",
    " \n",
    "# The value of the expectations of the Hamiltonian are stored in list final.\n",
    " \n",
    "# The minimum value of the expectation of the Hamiltonian is stored in \n",
    "# min_eigen and it's index in the list output is stored in min_eigen_index.\n",
    " \n",
    "final = []\n",
    "min_eigen = 100\n",
    " \n",
    "for i in range(num_theta):\n",
    "    out2 = []\n",
    "    for j in range(4):\n",
    "        avg = 0\n",
    "        for key, value in output[i][j].items():\n",
    "            avg += eig_values[j][key]*value\n",
    "        out2.append(avg/num_shots)\n",
    " \n",
    "    final.append(-1/2*(out2[2] + out2[3]) + 1/2*(out2[0] + out2[1]))\n",
    "    if final[-1] < min_eigen:\n",
    "        min_eigen = final[-1] \n",
    "print('minimum Eigen value: ', min_eigen)"
   ]
  },
  {
   "cell_type": "markdown",
   "metadata": {
    "colab": {
     "base_uri": "https://localhost:8080/",
     "height": 265
    },
    "colab_type": "code",
    "id": "khGM2nsH2nae",
    "outputId": "98c53309-b09c-45f1-dbec-f024a44a1cb5"
   },
   "source": [
    "# Plotting the data and observing the miniumum eigenvalue graphically"
   ]
  },
  {
   "cell_type": "code",
   "execution_count": 42,
   "metadata": {
    "colab": {
     "base_uri": "https://localhost:8080/",
     "height": 265
    },
    "colab_type": "code",
    "id": "khGM2nsH2nae",
    "outputId": "98c53309-b09c-45f1-dbec-f024a44a1cb5"
   },
   "outputs": [
    {
     "data": {
      "text/plain": [
       "[<matplotlib.lines.Line2D at 0x19efc478c08>]"
      ]
     },
     "execution_count": 42,
     "metadata": {},
     "output_type": "execute_result"
    },
    {
     "data": {
      "image/png": "[encoded data removed]",
      "text/plain": [
       "<Figure size 432x288 with 1 Axes>"
      ]
     },
     "metadata": {
      "needs_background": "light"
     },
     "output_type": "display_data"
    }
   ],
   "source": [
    "pl.plot(angles,final,'r')"
   ]
  },
  {
   "cell_type": "markdown",
   "metadata": {
    "colab": {},
    "colab_type": "code",
    "id": "H_QQ20nbFImU"
   },
   "source": [
    "Here, we can see that the values descend initially and attain a minimum and then ascend.\n",
    "\n",
    "\n",
    "That minimum value gives us a perfect answer to our question"
   ]
  },
  {
   "cell_type": "code",
   "execution_count": null,
   "metadata": {},
   "outputs": [],
   "source": []
  }
 ],
 "metadata": {
  "colab": {
   "collapsed_sections": [],
   "name": "VQE try3 final2.ipynb",
   "provenance": []
  },
  "kernelspec": {
   "display_name": "Python 3",
   "language": "python",
   "name": "python3"
  },
  "language_info": {
   "codemirror_mode": {
    "name": "ipython",
    "version": 3
   },
   "file_extension": ".py",
   "mimetype": "text/x-python",
   "name": "python",
   "nbconvert_exporter": "python",
   "pygments_lexer": "ipython3",
   "version": "3.7.6"
  }
 },
 "nbformat": 4,
 "nbformat_minor": 4
}
